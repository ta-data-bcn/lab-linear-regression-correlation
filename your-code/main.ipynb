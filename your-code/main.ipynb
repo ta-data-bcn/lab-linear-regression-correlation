{
 "cells": [
  {
   "cell_type": "markdown",
   "metadata": {},
   "source": [
    "# Linear Regression and Correlation\n",
    "\n",
    "## Challenge 1\n",
    "\n",
    "You are the owner of a big company and you suspect that the younger your employees are, the most likely it is that they don't come to work. In order to prove this hypothesis, you have gathered some data:\n",
    "\n",
    "| EmployeeID | Age | Absences |\n",
    "|--------|-----|------------|\n",
    "| 1      | 27  | 15         |\n",
    "| 2      | 61  | 6          |\n",
    "| 3      | 37  | 10         |\n",
    "| 4      | 23  | 18         |\n",
    "| 5      | 46  |  9         |\n",
    "| 6      | 58  |  7         |\n",
    "| 7      | 29  | 14         |\n",
    "| 8      | 36  | 11         |\n",
    "| 9      | 64  |  5         |\n",
    "| 10     | 40  |  8         |\n",
    "\n",
    "You can find this information in the `data` folder of the present repository. \n",
    "\n",
    "Import the necessary libraries to complete the lab here:"
   ]
  },
  {
   "cell_type": "code",
   "execution_count": 4,
   "metadata": {},
   "outputs": [],
   "source": [
    "# Libraries\n",
    "import pandas as pd\n",
    "import numpy as np\n",
    "import scipy.stats as stats\n",
    "import seaborn as sns\n",
    "import matplotlib.pyplot as plt"
   ]
  },
  {
   "cell_type": "markdown",
   "metadata": {},
   "source": [
    "#### 1. Plot the scatter chart of `Age` and `Absences`. Comment the result. Do you see any relation between `Age` and `Absences`?"
   ]
  },
  {
   "cell_type": "code",
   "execution_count": 5,
   "metadata": {},
   "outputs": [],
   "source": [
    "#index_col=0 to avoid having an index\n",
    "\n",
    "age_abs = pd.read_csv(\"../data/absences.csv\",index_col=0)"
   ]
  },
  {
   "cell_type": "code",
   "execution_count": 24,
   "metadata": {},
   "outputs": [
    {
     "data": {
      "text/html": [
       "<div>\n",
       "<style scoped>\n",
       "    .dataframe tbody tr th:only-of-type {\n",
       "        vertical-align: middle;\n",
       "    }\n",
       "\n",
       "    .dataframe tbody tr th {\n",
       "        vertical-align: top;\n",
       "    }\n",
       "\n",
       "    .dataframe thead th {\n",
       "        text-align: right;\n",
       "    }\n",
       "</style>\n",
       "<table border=\"1\" class=\"dataframe\">\n",
       "  <thead>\n",
       "    <tr style=\"text-align: right;\">\n",
       "      <th></th>\n",
       "      <th>EmployeeID</th>\n",
       "      <th>Age</th>\n",
       "      <th>Absences</th>\n",
       "    </tr>\n",
       "  </thead>\n",
       "  <tbody>\n",
       "    <tr>\n",
       "      <th>0</th>\n",
       "      <td>1</td>\n",
       "      <td>27</td>\n",
       "      <td>15</td>\n",
       "    </tr>\n",
       "    <tr>\n",
       "      <th>1</th>\n",
       "      <td>2</td>\n",
       "      <td>61</td>\n",
       "      <td>6</td>\n",
       "    </tr>\n",
       "    <tr>\n",
       "      <th>2</th>\n",
       "      <td>3</td>\n",
       "      <td>37</td>\n",
       "      <td>10</td>\n",
       "    </tr>\n",
       "    <tr>\n",
       "      <th>3</th>\n",
       "      <td>4</td>\n",
       "      <td>23</td>\n",
       "      <td>18</td>\n",
       "    </tr>\n",
       "    <tr>\n",
       "      <th>4</th>\n",
       "      <td>5</td>\n",
       "      <td>46</td>\n",
       "      <td>9</td>\n",
       "    </tr>\n",
       "  </tbody>\n",
       "</table>\n",
       "</div>"
      ],
      "text/plain": [
       "   EmployeeID  Age  Absences\n",
       "0           1   27        15\n",
       "1           2   61         6\n",
       "2           3   37        10\n",
       "3           4   23        18\n",
       "4           5   46         9"
      ]
     },
     "execution_count": 24,
     "metadata": {},
     "output_type": "execute_result"
    }
   ],
   "source": [
    "age_abs.head()"
   ]
  },
  {
   "cell_type": "code",
   "execution_count": 26,
   "metadata": {},
   "outputs": [
    {
     "data": {
      "image/png": "[encoded data removed]",
      "text/plain": [
       "<Figure size 432x288 with 1 Axes>"
      ]
     },
     "metadata": {
      "needs_background": "light"
     },
     "output_type": "display_data"
    }
   ],
   "source": [
    "#ci = size of the confidence interval\n",
    "\n",
    "scatter_age_abs = sns.regplot(x=age_abs[\"Age\"], \n",
    "                  y=age_abs[\"Absences\"], \n",
    "                  data=age_abs,ci=60)"
   ]
  },
  {
   "cell_type": "code",
   "execution_count": 29,
   "metadata": {},
   "outputs": [
    {
     "name": "stdout",
     "output_type": "stream",
     "text": [
      "The r_value is: -0.9325434092481011\n"
     ]
    }
   ],
   "source": [
    "slope, intercept, r_value, p_value, std_err = stats.linregress(age_abs[\"Age\"], age_abs[\"Absences\"])\n",
    "\n",
    "print ('The r_value is: ' + str(r_value))\n"
   ]
  },
  {
   "cell_type": "code",
   "execution_count": null,
   "metadata": {},
   "outputs": [],
   "source": [
    "#conclusions\n",
    "''' \n",
    "Looking at the scatter plot and the linear regression computed, there seems to be a strong negative correlation\n",
    "between age and absences. When age increases, absences decrease. When we look at the r-value we can see that\n",
    "the value is negative (negative corelation) and that is close to 1, indicating that the numerical values are\n",
    "highly related\n",
    "'''"
   ]
  },
  {
   "cell_type": "markdown",
   "metadata": {},
   "source": [
    "#### 2.- Define a function to calculate the slope and intercept of the regression line for two variables. Your are not allowed to use any functions or methods that directly calculate those parameters."
   ]
  },
  {
   "cell_type": "code",
   "execution_count": 32,
   "metadata": {},
   "outputs": [],
   "source": [
    "def slope_intercept (x,y):\n",
    "    \n",
    "    #first we calculate the mean of each variable\n",
    "    xmean = sum(x)/len(x)  \n",
    "    ymean = sum(y)/len(y)\n",
    "\n",
    "    # we use the formula to calculate the slope (without suming the modified values) and create a list\n",
    "    # x: value from variable 1\n",
    "    # y: value from variable 2\n",
    "    slope_list_1 = sum([(x-xmean)*(y-ymean) for x,y in zip(x,y)])\n",
    "    slope_list_2 = sum([((x-xmean)**2) for x in x])\n",
    "\n",
    "\n",
    "    # we sum the list's values to obtain the slope\n",
    "    slope = slope_list_1 / slope_list_2\n",
    "\n",
    "    # we apply the formula to obtain the intercept\n",
    "    intercept= ymean-slope*xmean\n",
    "    \n",
    "    return(slope,intercept)"
   ]
  },
  {
   "cell_type": "code",
   "execution_count": 37,
   "metadata": {},
   "outputs": [
    {
     "name": "stdout",
     "output_type": "stream",
     "text": [
      "slope: -0.2681088337033404 \n",
      "intercept 21.58738189891063\n"
     ]
    }
   ],
   "source": [
    "# Let's have a look at the results for age and absences\n",
    "\n",
    "slope,intercept = slope_intercept(age_abs[\"Age\"],age_abs[\"Absences\"])\n",
    "print(\"slope:\",slope,\"\\nintercept\",intercept)\n"
   ]
  },
  {
   "cell_type": "code",
   "execution_count": 34,
   "metadata": {},
   "outputs": [
    {
     "name": "stdout",
     "output_type": "stream",
     "text": [
      "slope: -0.2681088337033403\n",
      "intercept: 21.58738189891063\n"
     ]
    }
   ],
   "source": [
    "# Let's make sure we calculated it properly\n",
    "\n",
    "slope, intercept, r_value, p_value, std_err = stats.linregress(age_abs[\"Age\"], age_abs[\"Absences\"])\n",
    "print (\"slope:\",slope)\n",
    "print (\"intercept:\",intercept)"
   ]
  },
  {
   "cell_type": "markdown",
   "metadata": {},
   "source": [
    "#### 3.- Use the function you defined in step 2 to calculate the regression line for `Age` and `Absences`. Plot it and comment your results."
   ]
  },
  {
   "cell_type": "code",
   "execution_count": 85,
   "metadata": {},
   "outputs": [],
   "source": [
    "slope,intercept = slope_intercept(age_abs[\"Age\"],age_abs[\"Absences\"])"
   ]
  },
  {
   "cell_type": "code",
   "execution_count": 86,
   "metadata": {},
   "outputs": [
    {
     "data": {
      "text/plain": [
       "-0.2681088337033404"
      ]
     },
     "execution_count": 86,
     "metadata": {},
     "output_type": "execute_result"
    }
   ],
   "source": [
    "# negative, so the slope will be decreaseing (line will go down)\n",
    "\n",
    "slope"
   ]
  },
  {
   "cell_type": "code",
   "execution_count": 87,
   "metadata": {},
   "outputs": [
    {
     "data": {
      "text/plain": [
       "21.58738189891063"
      ]
     },
     "execution_count": 87,
     "metadata": {},
     "output_type": "execute_result"
    }
   ],
   "source": [
    "intercept"
   ]
  },
  {
   "cell_type": "code",
   "execution_count": 88,
   "metadata": {},
   "outputs": [
    {
     "data": {
      "text/plain": [
       "0    14.348443\n",
       "1     5.232743\n",
       "2    11.667355\n",
       "3    15.420879\n",
       "4     9.254376\n",
       "5     6.037070\n",
       "6    13.812226\n",
       "7    11.935464\n",
       "8     4.428417\n",
       "9    10.863029\n",
       "Name: Age, dtype: float64"
      ]
     },
     "execution_count": 88,
     "metadata": {},
     "output_type": "execute_result"
    }
   ],
   "source": [
    "# let's manually create the linear regression. The regression follows the following formula:\n",
    "\n",
    "# y = mx + a\n",
    "#   m-->slope\n",
    "#   a-->intercept\n",
    "\n",
    "predicted_y = intercept + slope * age_abs[\"Age\"]\n",
    "predicted_y\n",
    "\n",
    "# we created the predicted y values (with the intercept and slope calculated with the observed x)  \n",
    "# that we will plot with the observed x"
   ]
  },
  {
   "cell_type": "code",
   "execution_count": 72,
   "metadata": {},
   "outputs": [],
   "source": [
    "# function to calculate the predicted y\n",
    "\n",
    "def linear_regr_y (x,y):\n",
    "    slope,intercept = slope_intercept(x,y)\n",
    "    predicted_y = intercept + slope * x\n",
    "    return predicted_y"
   ]
  },
  {
   "cell_type": "code",
   "execution_count": 139,
   "metadata": {},
   "outputs": [
    {
     "data": {
      "image/png": "[encoded data removed]",
      "text/plain": [
       "<Figure size 432x288 with 1 Axes>"
      ]
     },
     "metadata": {
      "needs_background": "light"
     },
     "output_type": "display_data"
    }
   ],
   "source": [
    "# in order to plot the regression line we plot it together with the scatter plot\n",
    "\n",
    "plt.scatter(age_abs[\"Age\"],age_abs[\"Absences\"],color=\"y\")\n",
    "plt.plot(age_abs[\"Age\"],predicted_y)\n",
    "plt.show()"
   ]
  },
  {
   "cell_type": "code",
   "execution_count": null,
   "metadata": {},
   "outputs": [],
   "source": [
    "# The resulting plot is very similar if not the same as the one Seaborn plotted"
   ]
  },
  {
   "cell_type": "markdown",
   "metadata": {},
   "source": [
    "#### 4.- Define a function to calculate the covariance and the correlation of two variables."
   ]
  },
  {
   "cell_type": "code",
   "execution_count": 17,
   "metadata": {},
   "outputs": [],
   "source": [
    "'''\n",
    "covariance is a measure of the joint variability of two random variables\n",
    "\n",
    "  if cov(x,y) ~ 0 --> data circularly accumulated\n",
    "  if cov(x,y) < 0 --> data ovally shaped to the left (the two variables tend to move in inverse directions)\n",
    "  if cov(x,y) > 0 --> data ovally shaped to the right (the two variables tend to move in the same direction) \n",
    "\n",
    "the covariance formula for a sample is Cov(x,y) = Σ ((x1 – meanx) * (y1 – meany)) / (N – 1)\n",
    "'''\n",
    "\n",
    "def covariance(x,y):\n",
    "    \n",
    "    xmean = sum(x)/len(x)   # so we do not have to import numpy fo the function\n",
    "    ymean = sum(y)/len(y)\n",
    "    \n",
    "    cov_num = sum([(x1 - xmean)*(y1-ymean) for x1,y1 in zip(x,y)]) # numerator formula\n",
    "    cov_den = len(age_abs)-1   #denominator formula\n",
    "\n",
    "    covariance = cov_num / cov_den\n",
    "    \n",
    "    return covariance"
   ]
  },
  {
   "cell_type": "code",
   "execution_count": 18,
   "metadata": {},
   "outputs": [
    {
     "data": {
      "text/plain": [
       "-57.699999999999996"
      ]
     },
     "execution_count": 18,
     "metadata": {},
     "output_type": "execute_result"
    }
   ],
   "source": [
    "covariance (age_abs[\"Age\"],age_abs[\"Absences\"])\n",
    "\n",
    "# it indicates that the variables tend to move in inverse directions"
   ]
  },
  {
   "cell_type": "code",
   "execution_count": 19,
   "metadata": {},
   "outputs": [
    {
     "data": {
      "text/html": [
       "<div>\n",
       "<style scoped>\n",
       "    .dataframe tbody tr th:only-of-type {\n",
       "        vertical-align: middle;\n",
       "    }\n",
       "\n",
       "    .dataframe tbody tr th {\n",
       "        vertical-align: top;\n",
       "    }\n",
       "\n",
       "    .dataframe thead th {\n",
       "        text-align: right;\n",
       "    }\n",
       "</style>\n",
       "<table border=\"1\" class=\"dataframe\">\n",
       "  <thead>\n",
       "    <tr style=\"text-align: right;\">\n",
       "      <th></th>\n",
       "      <th>EmployeeID</th>\n",
       "      <th>Age</th>\n",
       "      <th>Absences</th>\n",
       "    </tr>\n",
       "  </thead>\n",
       "  <tbody>\n",
       "    <tr>\n",
       "      <th>EmployeeID</th>\n",
       "      <td>9.166667</td>\n",
       "      <td>9.055556</td>\n",
       "      <td>-4.388889</td>\n",
       "    </tr>\n",
       "    <tr>\n",
       "      <th>Age</th>\n",
       "      <td>9.055556</td>\n",
       "      <td>215.211111</td>\n",
       "      <td>-57.700000</td>\n",
       "    </tr>\n",
       "    <tr>\n",
       "      <th>Absences</th>\n",
       "      <td>-4.388889</td>\n",
       "      <td>-57.700000</td>\n",
       "      <td>17.788889</td>\n",
       "    </tr>\n",
       "  </tbody>\n",
       "</table>\n",
       "</div>"
      ],
      "text/plain": [
       "            EmployeeID         Age   Absences\n",
       "EmployeeID    9.166667    9.055556  -4.388889\n",
       "Age           9.055556  215.211111 -57.700000\n",
       "Absences     -4.388889  -57.700000  17.788889"
      ]
     },
     "execution_count": 19,
     "metadata": {},
     "output_type": "execute_result"
    }
   ],
   "source": [
    "#let's see if the covariance formula was done properly (yes it was)\n",
    "age_abs.cov()"
   ]
  },
  {
   "cell_type": "code",
   "execution_count": 11,
   "metadata": {},
   "outputs": [],
   "source": [
    "'''\n",
    "The correlation coefficient is a statistical measure of the strength of the relationship\n",
    "between the relative movements of two variables.\n",
    "\n",
    "ρxy = Σ ((x1 – meanx) * (y1 – meany))/σx*σy\n",
    "\n",
    "  ρxy = Pearson product-moment correlation coefficient\n",
    "  σx = standard deviation of x\n",
    "  σy = standard deviation of y\n",
    "'''\n",
    "\n",
    "# age an absences have the same range. The initial aproach: \n",
    "# [((sum((x1 - mean1)**2))**(1/2)) * ((sum((y1 - mean2)**2))**(1/2)) for x1,y1 in zip(x,y)]\n",
    "# did not work so let's try smth else with the index\n",
    "\n",
    "\n",
    "def correlation (x,y):\n",
    "\n",
    "    xmean = sum(x)/len(x)   # so we do not have to import numpy fo the function\n",
    "    ymean = sum(y)/len(y)\n",
    "\n",
    "    num = sum([(x1 - xmean)*(y1 - ymean) for x1,y1 in zip(x,y)])  # numerator formula\n",
    "\n",
    "    den_stdx = sum([((x1 - xmean)**2) for x1 in x])        # denominator part 1 std of x\n",
    "    den_stdy = sum([((y1 - ymean)**2) for y1 in y])        # denominator part 2 std of y\n",
    "\n",
    "    corr = num/(den_stdx*den_stdy)**(1/2)     # assembled correlation formula\n",
    "    \n",
    "    return corr"
   ]
  },
  {
   "cell_type": "code",
   "execution_count": 12,
   "metadata": {},
   "outputs": [
    {
     "data": {
      "text/plain": [
       "-0.9325434092481012"
      ]
     },
     "execution_count": 12,
     "metadata": {},
     "output_type": "execute_result"
    }
   ],
   "source": [
    "correlation(age_abs[\"Age\"],age_abs[\"Absences\"])"
   ]
  },
  {
   "cell_type": "code",
   "execution_count": 116,
   "metadata": {},
   "outputs": [
    {
     "data": {
      "text/html": [
       "<div>\n",
       "<style scoped>\n",
       "    .dataframe tbody tr th:only-of-type {\n",
       "        vertical-align: middle;\n",
       "    }\n",
       "\n",
       "    .dataframe tbody tr th {\n",
       "        vertical-align: top;\n",
       "    }\n",
       "\n",
       "    .dataframe thead th {\n",
       "        text-align: right;\n",
       "    }\n",
       "</style>\n",
       "<table border=\"1\" class=\"dataframe\">\n",
       "  <thead>\n",
       "    <tr style=\"text-align: right;\">\n",
       "      <th></th>\n",
       "      <th>EmployeeID</th>\n",
       "      <th>Age</th>\n",
       "      <th>Absences</th>\n",
       "    </tr>\n",
       "  </thead>\n",
       "  <tbody>\n",
       "    <tr>\n",
       "      <th>EmployeeID</th>\n",
       "      <td>1.000000</td>\n",
       "      <td>0.203881</td>\n",
       "      <td>-0.343696</td>\n",
       "    </tr>\n",
       "    <tr>\n",
       "      <th>Age</th>\n",
       "      <td>0.203881</td>\n",
       "      <td>1.000000</td>\n",
       "      <td>-0.932543</td>\n",
       "    </tr>\n",
       "    <tr>\n",
       "      <th>Absences</th>\n",
       "      <td>-0.343696</td>\n",
       "      <td>-0.932543</td>\n",
       "      <td>1.000000</td>\n",
       "    </tr>\n",
       "  </tbody>\n",
       "</table>\n",
       "</div>"
      ],
      "text/plain": [
       "            EmployeeID       Age  Absences\n",
       "EmployeeID    1.000000  0.203881 -0.343696\n",
       "Age           0.203881  1.000000 -0.932543\n",
       "Absences     -0.343696 -0.932543  1.000000"
      ]
     },
     "execution_count": 116,
     "metadata": {},
     "output_type": "execute_result"
    }
   ],
   "source": [
    "#let's make sure the calculation was done properly (and yes it is!)\n",
    "age_abs.corr()"
   ]
  },
  {
   "cell_type": "code",
   "execution_count": null,
   "metadata": {},
   "outputs": [],
   "source": []
  },
  {
   "cell_type": "markdown",
   "metadata": {},
   "source": [
    "#### 5.- Use the function you defined in step 4 to calculate the covariance and the correlation of `Age` and `Absences`. Compare them and comment."
   ]
  },
  {
   "cell_type": "code",
   "execution_count": 21,
   "metadata": {},
   "outputs": [
    {
     "name": "stdout",
     "output_type": "stream",
     "text": [
      "-57.699999999999996\n",
      "-0.9325434092481012\n"
     ]
    }
   ],
   "source": [
    "print(covariance (age_abs[\"Age\"],age_abs[\"Absences\"]))\n",
    "\n",
    "print(correlation(age_abs[\"Age\"],age_abs[\"Absences\"]))"
   ]
  },
  {
   "cell_type": "code",
   "execution_count": null,
   "metadata": {},
   "outputs": [],
   "source": [
    "''' \n",
    "Negative covariance is indicating that the two variables are moving or tend to move in different directions\n",
    "\n",
    "The correlation coefficient is indicating that the strength of the relationship between the two variables\n",
    "is high and the sign of the coefficient is telling is that they are inversely related\n",
    "'''"
   ]
  },
  {
   "cell_type": "markdown",
   "metadata": {},
   "source": [
    "#### 6.- Summarize your results, interpret them and give some insights. Can you confirm that the age is an indicator of absenteeism?"
   ]
  },
  {
   "cell_type": "code",
   "execution_count": null,
   "metadata": {},
   "outputs": [],
   "source": [
    "'''\n",
    "After analysing the data, it can be seen (considering the correlation coeficient and having a look at the\n",
    "linear regression plot) that there seems to be a conection between age and absenteeism. \n",
    "Further statistical analysis should be done to prove its significance.\n",
    "'''"
   ]
  },
  {
   "cell_type": "markdown",
   "metadata": {},
   "source": [
    "## Challenge 2\n",
    "\n",
    "Good Ironhackers stay in campus on Fridays for Ironbeers. You suspect that the more people you tell to stay, the most likely it is that they don't. You want to know if you are the reason why people don't stay so you decide to do an analysis. \n",
    "\n",
    "X is the number of people that you told to stay and Y is the number of people that actually stayed.\n",
    "\n",
    "| X | Y |\n",
    "|---|---|\n",
    "| 1 | 1 |\n",
    "| 3 | 2 |\n",
    "| 4 | 4 |\n",
    "| 6 | 4 |\n",
    "| 8 | 5 |\n",
    "| 9 | 7 |\n",
    "| 11 |8 |\n",
    "| 14 | 9 |\n",
    "\n",
    "Use the following command to create a dataframe with the data about Ironbeers attendance:"
   ]
  },
  {
   "cell_type": "code",
   "execution_count": 22,
   "metadata": {},
   "outputs": [],
   "source": [
    "ironbeers_df = pd.DataFrame({'X': [1,3,4,6,8,9,11,14], 'Y': [1,2,4,4,5,7,8,9]})"
   ]
  },
  {
   "cell_type": "markdown",
   "metadata": {},
   "source": [
    "#### 1.- Calculate the covariance and the correlation of `X` and `Y`. Comment on the results."
   ]
  },
  {
   "cell_type": "code",
   "execution_count": 23,
   "metadata": {},
   "outputs": [
    {
     "data": {
      "text/plain": [
       "9.333333333333334"
      ]
     },
     "execution_count": 23,
     "metadata": {},
     "output_type": "execute_result"
    }
   ],
   "source": [
    "covariance (ironbeers_df[\"X\"],ironbeers_df[\"Y\"])"
   ]
  },
  {
   "cell_type": "code",
   "execution_count": 24,
   "metadata": {},
   "outputs": [
    {
     "data": {
      "text/plain": [
       "0.9770084209183943"
      ]
     },
     "execution_count": 24,
     "metadata": {},
     "output_type": "execute_result"
    }
   ],
   "source": [
    "correlation (ironbeers_df[\"X\"],ironbeers_df[\"Y\"])"
   ]
  },
  {
   "cell_type": "code",
   "execution_count": null,
   "metadata": {},
   "outputs": [],
   "source": [
    "'''looking at the covariance and correlation sign we can tell that the two variables tend to move in the same\n",
    "direction, when one increases, so does the other one.\n",
    "The correlation coeficcient number tells us that the correlation is very strong since it is almost 1'''"
   ]
  },
  {
   "cell_type": "markdown",
   "metadata": {},
   "source": [
    "#### 2.- Plot the scatter chart of `X` and `Y`. Comment on the results."
   ]
  },
  {
   "cell_type": "code",
   "execution_count": 40,
   "metadata": {},
   "outputs": [],
   "source": [
    "slope,intercept = slope_intercept(ironbeers_df[\"X\"],ironbeers_df[\"Y\"])"
   ]
  },
  {
   "cell_type": "code",
   "execution_count": 45,
   "metadata": {},
   "outputs": [],
   "source": [
    "newy = linear_regr_y(ironbeers_df[\"X\"],ironbeers_df[\"Y\"])"
   ]
  },
  {
   "cell_type": "code",
   "execution_count": 48,
   "metadata": {},
   "outputs": [
    {
     "data": {
      "image/png": "[encoded data removed]",
      "text/plain": [
       "<Figure size 432x288 with 1 Axes>"
      ]
     },
     "metadata": {
      "needs_background": "light"
     },
     "output_type": "display_data"
    }
   ],
   "source": [
    "plt.scatter(ironbeers_df[\"X\"],ironbeers_df[\"Y\"])\n",
    "plt.plot(ironbeers_df[\"X\"],newy, color=\"r\")\n",
    "plt.show()"
   ]
  },
  {
   "cell_type": "code",
   "execution_count": null,
   "metadata": {},
   "outputs": [],
   "source": [
    "'''the scatter plot and the linear regression indicate (same as correlation coefiicient and covariance)\n",
    "that the relationship seems to be very strong and that both variables follow and increasing trend'''"
   ]
  },
  {
   "cell_type": "markdown",
   "metadata": {},
   "source": [
    "#### 3.- Calculate the regression line for `X` and `Y`. Commment on the results."
   ]
  },
  {
   "cell_type": "code",
   "execution_count": 74,
   "metadata": {},
   "outputs": [
    {
     "data": {
      "image/png": "[encoded data removed]",
      "text/plain": [
       "<Figure size 432x288 with 1 Axes>"
      ]
     },
     "metadata": {
      "needs_background": "light"
     },
     "output_type": "display_data"
    }
   ],
   "source": [
    "# Let's see the relationship between the ones told and the ones that DO NOT stay\n",
    "\n",
    "ynew = linear_regr_y(ironbeers_df[\"X\"],(ironbeers_df[\"X\"]-ironbeers_df[\"Y\"]))\n",
    "plt.scatter(ironbeers_df[\"X\"],(ironbeers_df[\"X\"]-ironbeers_df[\"Y\"]))\n",
    "plt.plot(ironbeers_df[\"X\"],ynew, color=\"r\")\n",
    "plt.show()"
   ]
  },
  {
   "cell_type": "code",
   "execution_count": 68,
   "metadata": {},
   "outputs": [],
   "source": [
    "# % of the ones that stay\n",
    "index = ironbeers_df[\"Y\"]/ironbeers_df[\"X\"]*100"
   ]
  },
  {
   "cell_type": "code",
   "execution_count": 75,
   "metadata": {},
   "outputs": [
    {
     "data": {
      "text/plain": [
       "<BarContainer object of 8 artists>"
      ]
     },
     "execution_count": 75,
     "metadata": {},
     "output_type": "execute_result"
    },
    {
     "data": {
      "image/png": "[encoded data removed]",
      "text/plain": [
       "<Figure size 432x288 with 1 Axes>"
      ]
     },
     "metadata": {
      "needs_background": "light"
     },
     "output_type": "display_data"
    }
   ],
   "source": [
    "plt.bar([1,2,3,4,5,6,7,8],index)"
   ]
  },
  {
   "cell_type": "markdown",
   "metadata": {},
   "source": [
    "#### 4.- What is your conclusion? Are you the reason why people is not staying on Fridays?"
   ]
  },
  {
   "cell_type": "code",
   "execution_count": 78,
   "metadata": {},
   "outputs": [
    {
     "data": {
      "text/plain": [
       "76.32801226551226"
      ]
     },
     "execution_count": 78,
     "metadata": {},
     "output_type": "execute_result"
    }
   ],
   "source": [
    "np.mean(index)"
   ]
  },
  {
   "cell_type": "code",
   "execution_count": 85,
   "metadata": {},
   "outputs": [
    {
     "data": {
      "text/plain": [
       "14.399250038093747"
      ]
     },
     "execution_count": 85,
     "metadata": {},
     "output_type": "execute_result"
    }
   ],
   "source": [
    "np.std(index)"
   ]
  },
  {
   "cell_type": "code",
   "execution_count": 87,
   "metadata": {},
   "outputs": [
    {
     "data": {
      "text/plain": [
       "(63.458769531304945, 89.19725499971958)"
      ]
     },
     "execution_count": 87,
     "metadata": {},
     "output_type": "execute_result"
    }
   ],
   "source": [
    "stats.t.interval(.95, len(index)-1, np.mean(index), stats.sem(index) )"
   ]
  },
  {
   "cell_type": "code",
   "execution_count": null,
   "metadata": {},
   "outputs": [],
   "source": [
    "'''\n",
    "The results obtained indicated that the more people I tell, the more people that stays,\n",
    "but also the more people that do not stay. \n",
    "Nonetheless, if we have a look at the % of people that do stays we can see that everyday is more than the 50%\n",
    "which could makes us think that it is not really our fault and that telling more people does not mean that\n",
    "less will stay. In fact, it seems that on average, the people that stays proportionetly to the people told falls\n",
    "within the 60-80 % range\n",
    "'''"
   ]
  },
  {
   "cell_type": "markdown",
   "metadata": {},
   "source": [
    "## Bonus Challenge: Error Analysis\n",
    "\n",
    "You are going to do an analysis to check whether two random variables fit into a linear regression or not.\n",
    "\n",
    "In this challenge, you are asked to do an error analysis using the data in **challenge 2**. An \"error\" is the difference between the expected value of an observation (the regression line value) and the actual value.\n",
    "\n",
    "#### 1.- First create a new column `expected_Y` in `ironbeers_df` to store the expected `Y` value for each `X`.\n",
    "**Hint**: You get the expected `Y` by evaluating the regression line for each `X`."
   ]
  },
  {
   "cell_type": "code",
   "execution_count": null,
   "metadata": {},
   "outputs": [],
   "source": [
    "# your code here"
   ]
  },
  {
   "cell_type": "markdown",
   "metadata": {},
   "source": [
    "#### 2.- Create a new column `error` in `ironbeers_df` to store the error between the actual and expected values of `Y`. Plot the scatter chart of `X` and `error`."
   ]
  },
  {
   "cell_type": "code",
   "execution_count": null,
   "metadata": {},
   "outputs": [],
   "source": [
    "# your code here"
   ]
  },
  {
   "cell_type": "markdown",
   "metadata": {},
   "source": [
    "#### 3.- The closer the points to zero, the best the actual values fit the linear regression. Comment the plot above. Do you see any particular points with a high error?"
   ]
  },
  {
   "cell_type": "code",
   "execution_count": null,
   "metadata": {},
   "outputs": [],
   "source": [
    "# your comments here"
   ]
  },
  {
   "cell_type": "markdown",
   "metadata": {},
   "source": [
    "#### 4.- Remove the points with a high error and recalculate the regression line."
   ]
  },
  {
   "cell_type": "code",
   "execution_count": null,
   "metadata": {},
   "outputs": [],
   "source": [
    "# your code here"
   ]
  },
  {
   "cell_type": "markdown",
   "metadata": {},
   "source": [
    "#### 5.- Calculate the correlation. What is happening? Comment the result."
   ]
  },
  {
   "cell_type": "code",
   "execution_count": null,
   "metadata": {},
   "outputs": [],
   "source": [
    "# your code here"
   ]
  },
  {
   "cell_type": "code",
   "execution_count": null,
   "metadata": {},
   "outputs": [],
   "source": [
    "# your comments here"
   ]
  }
 ],
 "metadata": {
  "kernelspec": {
   "display_name": "Python 3",
   "language": "python",
   "name": "python3"
  },
  "language_info": {
   "codemirror_mode": {
    "name": "ipython",
    "version": 3
   },
   "file_extension": ".py",
   "mimetype": "text/x-python",
   "name": "python",
   "nbconvert_exporter": "python",
   "pygments_lexer": "ipython3",
   "version": "3.8.3"
  },
  "toc": {
   "base_numbering": 1,
   "nav_menu": {},
   "number_sections": true,
   "sideBar": true,
   "skip_h1_title": false,
   "title_cell": "Table of Contents",
   "title_sidebar": "Contents",
   "toc_cell": false,
   "toc_position": {},
   "toc_section_display": true,
   "toc_window_display": false
  }
 },
 "nbformat": 4,
 "nbformat_minor": 2
}

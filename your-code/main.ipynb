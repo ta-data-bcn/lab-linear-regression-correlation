{
 "cells": [
  {
   "cell_type": "markdown",
   "metadata": {},
   "source": [
    "# Linear Regression and Correlation\n",
    "\n",
    "## Challenge 1\n",
    "\n",
    "You are the owner of a big company and you suspect that the younger your employees are, the most likely it is that they don't come to work. In order to prove this hypothesis, you have gathered some data:\n",
    "\n",
    "| EmployeeID | Age | Absences |\n",
    "|--------|-----|------------|\n",
    "| 1      | 27  | 15         |\n",
    "| 2      | 61  | 6          |\n",
    "| 3      | 37  | 10         |\n",
    "| 4      | 23  | 18         |\n",
    "| 5      | 46  |  9         |\n",
    "| 6      | 58  |  7         |\n",
    "| 7      | 29  | 14         |\n",
    "| 8      | 36  | 11         |\n",
    "| 9      | 64  |  5         |\n",
    "| 10     | 40  |  8         |\n",
    "\n",
    "You can find this information in the `data` folder of the present repository. \n",
    "\n",
    "Import the necessary libraries to complete the lab here:"
   ]
  },
  {
   "cell_type": "code",
   "execution_count": 1,
   "metadata": {},
   "outputs": [],
   "source": [
    "# Libraries\n",
    "import pandas as pd\n",
    "import numpy as np\n",
    "from matplotlib import pyplot as plt\n",
    "from matplotlib import markers"
   ]
  },
  {
   "cell_type": "markdown",
   "metadata": {},
   "source": [
    "#### 1. Plot the scatter chart of `Age` and `Absences`. Comment the result. Do you see any relation between `Age` and `Absences`?"
   ]
  },
  {
   "cell_type": "code",
   "execution_count": 2,
   "metadata": {},
   "outputs": [
    {
     "data": {
      "text/plain": [
       "<matplotlib.axes._subplots.AxesSubplot at 0x19e1e662448>"
      ]
     },
     "execution_count": 2,
     "metadata": {},
     "output_type": "execute_result"
    },
    {
     "data": {
      "image/png": "[encoded data removed]",
      "text/plain": [
       "<Figure size 432x324 with 1 Axes>"
      ]
     },
     "metadata": {
      "needs_background": "light"
     },
     "output_type": "display_data"
    }
   ],
   "source": [
    "# your code here\n",
    "employees = pd.read_csv('../data/absences.csv')\n",
    "employees.plot.scatter(2,3,figsize=(6,4.5),title='Employee Age vs Absences',grid=True,fontsize=14,c='blue',s=40,marker='o')"
   ]
  },
  {
   "cell_type": "code",
   "execution_count": 3,
   "metadata": {},
   "outputs": [],
   "source": [
    "# your comments here\n",
    "# There is a clear negative correlation between Age and Absences. That is when Age increases, the number of absences decreases."
   ]
  },
  {
   "cell_type": "markdown",
   "metadata": {},
   "source": [
    "#### 2.- Define a function to calculate the slope and intercept of the regression line for two variables. Your are not allowed to use any functions or methods that directly calculate those parameters."
   ]
  },
  {
   "cell_type": "code",
   "execution_count": 4,
   "metadata": {},
   "outputs": [],
   "source": [
    "# your code here\n",
    "# my approach to this problem is the least square method solution to the problem A*x = b\n",
    "# x is a vector with the unknows beta (slope) and alfa (intercept)\n",
    "# A is a matrix containing  [ones x_i] in columns, and b is a vector containing all y_i values\n",
    "# x_i and y_i are all values of two variables for i=1,...,n\n",
    "# the least square problem solves x such that this minimizes the norm (A*x-b)\n",
    "# in the linear regression problem this means the minimum error e_i = y_i - alfa - beta*x_i, summed for i=1,...,n\n",
    "# the solution is shown in the equation below"
   ]
  },
  {
   "cell_type": "markdown",
   "metadata": {},
   "source": [
    "<img src=\"https://render.githubusercontent.com/render/math?math=x=(A^{{{\\mathrm  {T}}}}A)^{{-1}}A^{{{\\mathrm  {T}}}}b\" width=\"200\">"
   ]
  },
  {
   "cell_type": "code",
   "execution_count": 5,
   "metadata": {},
   "outputs": [],
   "source": [
    "# function lin_reg works with arrays X, Y as inputs\n",
    "def lin_reg(X,Y):\n",
    "    # build matrix A\n",
    "    A = np.vstack((np.ones((len(X))),X)).T\n",
    "    # solve the linear system\n",
    "    alfa, beta = np.linalg.solve(np.matmul(A.T,A),np.matmul(A.T,Y))\n",
    "    return alfa, beta"
   ]
  },
  {
   "cell_type": "markdown",
   "metadata": {},
   "source": [
    "#### 3.- Use the function you defined in step 2 to calculate the regression line for `Age` and `Absences`. Plot it and comment your results."
   ]
  },
  {
   "cell_type": "code",
   "execution_count": 6,
   "metadata": {},
   "outputs": [
    {
     "name": "stdout",
     "output_type": "stream",
     "text": [
      "Linear regression 'Age vs Absence' slope: -0.27 and intersect: 21.59\n",
      "Linear correlation is negative and strong (coefficient: -0.93) \n"
     ]
    }
   ],
   "source": [
    "# your code here\n",
    "X = employees.Age\n",
    "Y = employees.Absences\n",
    "alfa,beta = lin_reg(X,Y)\n",
    "print(f\"Linear regression 'Age vs Absence' slope: {round(beta,2)} and intersect: {round(alfa,2)}\")\n",
    "print(f\"Linear correlation is negative and strong (coefficient: {round(np.corrcoef(X,Y)[0,1],2)}) \")\n",
    "Y_est = alfa + X*beta"
   ]
  },
  {
   "cell_type": "code",
   "execution_count": 7,
   "metadata": {},
   "outputs": [
    {
     "data": {
      "image/png": "[encoded data removed]",
      "text/plain": [
       "<Figure size 432x324 with 1 Axes>"
      ]
     },
     "metadata": {
      "needs_background": "light"
     },
     "output_type": "display_data"
    }
   ],
   "source": [
    "plt.figure(figsize=(6,4.5))\n",
    "plt.plot(X, Y_est, 'dodgerblue', label='Linear Regression', linewidth=2)\n",
    "plt.xlabel('Age', fontsize=16)\n",
    "plt.ylabel('Absences', fontsize=16)\n",
    "plt.title('Scatter Age vs Absence and linear regression')\n",
    "plt.scatter(X,Y, label='Scatter data', s = 40,color='tomato')\n",
    "plt.legend()\n",
    "plt.show()"
   ]
  },
  {
   "cell_type": "code",
   "execution_count": 8,
   "metadata": {},
   "outputs": [],
   "source": [
    "# your comments here\n",
    "# We confirm in the scatter data plot that linear correlation is negative and strong (coefficient: -0.93)."
   ]
  },
  {
   "cell_type": "markdown",
   "metadata": {},
   "source": [
    "#### 4.- Define a function to calculate the covariance and the correlation of two variables."
   ]
  },
  {
   "cell_type": "code",
   "execution_count": 9,
   "metadata": {},
   "outputs": [],
   "source": [
    "# your code here\n",
    "# function get_covar with arrays X, Y as inputs\n",
    "def get_covar(X,Y):\n",
    "    return np.dot(X-X.mean(),Y-Y.mean())/(len(X)-1)\n",
    "\n",
    "def get_corr(X,Y):\n",
    "    return get_covar(X,Y)/(X.std()*Y.std())"
   ]
  },
  {
   "cell_type": "markdown",
   "metadata": {},
   "source": [
    "#### 5.- Use the function you defined in step 4 to calculate the covariance and the correlation of `Age` and `Absences`. Compare them and comment."
   ]
  },
  {
   "cell_type": "code",
   "execution_count": 10,
   "metadata": {},
   "outputs": [
    {
     "name": "stdout",
     "output_type": "stream",
     "text": [
      "Covariance 'Age vs Absences' is -57.7\n",
      "Correlation coefficient 'Age vs Absences' is -0.93\n"
     ]
    }
   ],
   "source": [
    "# your code here\n",
    "print(f\"Covariance 'Age vs Absences' is {round(get_covar(X,Y),2)}\")\n",
    "print(f\"Correlation coefficient 'Age vs Absences' is {round(get_corr(X,Y),2)}\")"
   ]
  },
  {
   "cell_type": "code",
   "execution_count": 11,
   "metadata": {},
   "outputs": [],
   "source": [
    "# your comments here\n",
    "# Covariance main interpretation is given by its sign. Being this negative, it means that\n",
    "# greater values of one variable mainly correspond to the lesser values of the other.\n",
    "# The magnitude of the covariance doesnt' have a direct interpret because it is not normalized.\n",
    "# Indeed, the correlation coefficient is the normalized version of the covariance.\n",
    "# Thus, in our case it inherits the sign of the covariance.\n",
    "# In addition, being in our case close to -1, this means that Age and Absences are strongly\n",
    "# correlated in a linear decreasing relation.\n"
   ]
  },
  {
   "cell_type": "markdown",
   "metadata": {},
   "source": [
    "#### 6.- Summarize your results, interpret them and give some insights. Can you confirm that the age is an indicator of absenteeism?"
   ]
  },
  {
   "cell_type": "code",
   "execution_count": 12,
   "metadata": {},
   "outputs": [],
   "source": [
    "# your comments here\n",
    "# We can conclude that age is a good indicator of absenteeism. In addition, having constructed its linear\n",
    "# correlation, we can therefore make good predictions of absenteeism for any given age."
   ]
  },
  {
   "cell_type": "markdown",
   "metadata": {},
   "source": [
    "## Challenge 2\n",
    "\n",
    "Good Ironhackers stay in campus on Fridays for Ironbeers. You suspect that the more people you tell to stay, the most likely it is that they don't. You want to know if you are the reason why people don't stay so you decide to do an analysis. \n",
    "\n",
    "X is the number of people that you told to stay and Y is the number of people that actually stayed.\n",
    "\n",
    "| X | Y |\n",
    "|---|---|\n",
    "| 1 | 1 |\n",
    "| 3 | 2 |\n",
    "| 4 | 4 |\n",
    "| 6 | 4 |\n",
    "| 8 | 5 |\n",
    "| 9 | 7 |\n",
    "| 11 |8 |\n",
    "| 14 | 9 |\n",
    "\n",
    "Use the following command to create a dataframe with the data about Ironbeers attendance:"
   ]
  },
  {
   "cell_type": "code",
   "execution_count": 13,
   "metadata": {},
   "outputs": [],
   "source": [
    "ironbeers_df = pd.DataFrame({'X': [1,3,4,6,8,9,11,14], 'Y': [1,2,4,4,5,7,8,9]})\n",
    "X = ironbeers_df.X\n",
    "Y = ironbeers_df.Y"
   ]
  },
  {
   "cell_type": "markdown",
   "metadata": {},
   "source": [
    "#### 1.- Calculate the covariance and the correlation of `X` and `Y`. Comment on the results."
   ]
  },
  {
   "cell_type": "code",
   "execution_count": 14,
   "metadata": {},
   "outputs": [
    {
     "name": "stdout",
     "output_type": "stream",
     "text": [
      "Covariance 'X vs Y' is 12.0\n",
      "Correlation coefficient 'X vs Y' is 0.98\n"
     ]
    }
   ],
   "source": [
    "# your code here\n",
    "print(f\"Covariance 'X vs Y' is {round(get_covar(X,Y),2)}\")\n",
    "print(f\"Correlation coefficient 'X vs Y' is {round(get_corr(X,Y),2)}\")"
   ]
  },
  {
   "cell_type": "code",
   "execution_count": 15,
   "metadata": {},
   "outputs": [],
   "source": [
    "# your comments here\n",
    "# In the analysis above, we observe that the number of people told to stay for Ironbeers (or 'X')\n",
    "# has a positive covariance against the number of people that finally join beers in Campus on Fridays (or 'Y').\n",
    "# This means that greater values of people told to stay correspond with greater values of people that actually\n",
    "# participate in Ironbeers (and the same holds for the lesser values).\n",
    "# In addition, being the correlation coefficient very close to 1 (0.98), then the relation between the\n",
    "# 'X' - people told to stay for Ironbeers - and 'Y' - people actually joining Ironbeers on Fridays -\n",
    "# is PROPORTIONAL - or linear -."
   ]
  },
  {
   "cell_type": "markdown",
   "metadata": {},
   "source": [
    "#### 2.- Plot the scatter chart of `X` and `Y`. Comment on the results."
   ]
  },
  {
   "cell_type": "code",
   "execution_count": 16,
   "metadata": {},
   "outputs": [
    {
     "data": {
      "image/png": "[encoded data removed]",
      "text/plain": [
       "<Figure size 432x324 with 1 Axes>"
      ]
     },
     "metadata": {
      "needs_background": "light"
     },
     "output_type": "display_data"
    }
   ],
   "source": [
    "# your code here\n",
    "plt.figure(figsize=(6,4.5))\n",
    "plt.xlabel('People told to stay on Fridays', fontsize=14)\n",
    "plt.xticks(fontsize=12)\n",
    "plt.ylabel('People finally joining Friday Ironbeers', fontsize=14)\n",
    "plt.yticks(fontsize=12)\n",
    "plt.title('People invited vs People participating in Ironbeers',fontsize=14)\n",
    "plt.scatter(X,Y, label='Scatter data', s = 80,color='rebeccapurple',marker='*',alpha=0.8)\n",
    "plt.legend()\n",
    "plt.show()"
   ]
  },
  {
   "cell_type": "code",
   "execution_count": 17,
   "metadata": {},
   "outputs": [],
   "source": [
    "# your comments here\n",
    "# We confirm our prediction about the covariance and correlation coefficient between\n",
    "# people told to stay and actually people staying for Ironbeers on Fridays.\n",
    "# The strong positive linear correlation is observed from the scatter data, that is\n",
    "# its behavior could be modelled properly with an increasing linear function\n",
    "# that we'll determine in the next step."
   ]
  },
  {
   "cell_type": "markdown",
   "metadata": {},
   "source": [
    "#### 3.- Calculate the regression line for `X` and `Y`. Commment on the results."
   ]
  },
  {
   "cell_type": "code",
   "execution_count": 18,
   "metadata": {},
   "outputs": [
    {
     "name": "stdout",
     "output_type": "stream",
     "text": [
      "Linear regression 'X' vs 'Y' has a slope: 0.64 and intersect: 0.55.\n"
     ]
    }
   ],
   "source": [
    "# your code here\n",
    "alfa,beta = lin_reg(X,Y)\n",
    "print(f\"Linear regression 'X' vs 'Y' has a slope: {round(beta,2)} and intersect: {round(alfa,2)}.\")"
   ]
  },
  {
   "cell_type": "code",
   "execution_count": 19,
   "metadata": {},
   "outputs": [],
   "source": [
    "# your comments here\n",
    "# The slope of the regression line 'X' vs 'Y' is positive as expected from the correlation coefficient.\n",
    "# Moreover, the intersect of the linear regression is close to zero which tells us that if you don't\n",
    "# invite people to Ironbeers it is expected that no one will actually join. In addition, the slope (0.64)\n",
    "# is less than one which makes sense, being that it is not possible that actually more\n",
    "# people assist to Ironbeers than those invited. Finally, the slope of the linear regression also gives us\n",
    "# the insight that actually 64% of the invited people to Ironbeers is expected to actually join in Campus\n",
    "# on Fridays."
   ]
  },
  {
   "cell_type": "markdown",
   "metadata": {},
   "source": [
    "#### 4.- What is your conclusion? Are you the reason why people is not staying on Fridays?"
   ]
  },
  {
   "cell_type": "code",
   "execution_count": 20,
   "metadata": {},
   "outputs": [],
   "source": [
    "# your comments here\n",
    "# No! I can relax that I am not the problem, and we could try may be to buy more FREE BEERS !!!!!!!"
   ]
  },
  {
   "cell_type": "markdown",
   "metadata": {},
   "source": [
    "## Bonus Challenge: Error Analysis\n",
    "\n",
    "You are going to do an analysis to check whether two random variables fit into a linear regression or not.\n",
    "\n",
    "In this challenge, you are asked to do an error analysis using the data in **challenge 2**. An \"error\" is the difference between the expected value of an observation (the regression line value) and the actual value.\n",
    "\n",
    "#### 1.- First create a new column `expected_Y` in `ironbeers_df` to store the expected `Y` value for each `X`.\n",
    "**Hint**: You get the expected `Y` by evaluating the regression line for each `X`."
   ]
  },
  {
   "cell_type": "code",
   "execution_count": 21,
   "metadata": {},
   "outputs": [],
   "source": [
    "# your code here"
   ]
  },
  {
   "cell_type": "markdown",
   "metadata": {},
   "source": [
    "#### 2.- Create a new column `error` in `ironbeers_df` to store the error between the actual and expected values of `Y`. Plot the scatter chart of `X` and `error`."
   ]
  },
  {
   "cell_type": "code",
   "execution_count": 22,
   "metadata": {},
   "outputs": [],
   "source": [
    "# your code here"
   ]
  },
  {
   "cell_type": "markdown",
   "metadata": {},
   "source": [
    "#### 3.- The closer the points to zero, the best the actual values fit the linear regression. Comment the plot above. Do you see any particular points with a high error?"
   ]
  },
  {
   "cell_type": "code",
   "execution_count": 23,
   "metadata": {},
   "outputs": [],
   "source": [
    "# your comments here"
   ]
  },
  {
   "cell_type": "markdown",
   "metadata": {},
   "source": [
    "#### 4.- Remove the points with a high error and recalculate the regression line."
   ]
  },
  {
   "cell_type": "code",
   "execution_count": 24,
   "metadata": {},
   "outputs": [],
   "source": [
    "# your code here"
   ]
  },
  {
   "cell_type": "markdown",
   "metadata": {},
   "source": [
    "#### 5.- Calculate the correlation. What is happening? Comment the result."
   ]
  },
  {
   "cell_type": "code",
   "execution_count": 25,
   "metadata": {},
   "outputs": [],
   "source": [
    "# your code here"
   ]
  },
  {
   "cell_type": "code",
   "execution_count": 26,
   "metadata": {},
   "outputs": [],
   "source": [
    "# your comments here"
   ]
  }
 ],
 "metadata": {
  "kernelspec": {
   "display_name": "Python 3",
   "language": "python",
   "name": "python3"
  },
  "language_info": {
   "codemirror_mode": {
    "name": "ipython",
    "version": 3
   },
   "file_extension": ".py",
   "mimetype": "text/x-python",
   "name": "python",
   "nbconvert_exporter": "python",
   "pygments_lexer": "ipython3",
   "version": "3.7.6"
  }
 },
 "nbformat": 4,
 "nbformat_minor": 2
}

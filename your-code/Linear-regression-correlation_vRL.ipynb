{
 "cells": [
  {
   "cell_type": "markdown",
   "metadata": {},
   "source": [
    "# Linear Regression and Correlation\n",
    "\n",
    "## Challenge 1\n",
    "\n",
    "You are the owner of a big company and you suspect that the younger your employees are, the most likely it is that they don't come to work. In order to prove this hypothesis, you have gathered some data:\n",
    "\n",
    "| EmployeeID | Age | Absences |\n",
    "|--------|-----|------------|\n",
    "| 1      | 27  | 15         |\n",
    "| 2      | 61  | 6          |\n",
    "| 3      | 37  | 10         |\n",
    "| 4      | 23  | 18         |\n",
    "| 5      | 46  |  9         |\n",
    "| 6      | 58  |  7         |\n",
    "| 7      | 29  | 14         |\n",
    "| 8      | 36  | 11         |\n",
    "| 9      | 64  |  5         |\n",
    "| 10     | 40  |  8         |\n",
    "\n",
    "You can find this information in the `data` folder of the present repository. \n",
    "\n",
    "Import the necessary libraries to complete the lab here:"
   ]
  },
  {
   "cell_type": "code",
   "execution_count": 16,
   "metadata": {},
   "outputs": [],
   "source": [
    "# Libraries\n",
    "import pandas as pd"
   ]
  },
  {
   "cell_type": "code",
   "execution_count": 17,
   "metadata": {},
   "outputs": [
    {
     "data": {
      "text/html": [
       "<div>\n",
       "<style scoped>\n",
       "    .dataframe tbody tr th:only-of-type {\n",
       "        vertical-align: middle;\n",
       "    }\n",
       "\n",
       "    .dataframe tbody tr th {\n",
       "        vertical-align: top;\n",
       "    }\n",
       "\n",
       "    .dataframe thead th {\n",
       "        text-align: right;\n",
       "    }\n",
       "</style>\n",
       "<table border=\"1\" class=\"dataframe\">\n",
       "  <thead>\n",
       "    <tr style=\"text-align: right;\">\n",
       "      <th></th>\n",
       "      <th>EmployeeID</th>\n",
       "      <th>Age</th>\n",
       "      <th>Absences</th>\n",
       "    </tr>\n",
       "  </thead>\n",
       "  <tbody>\n",
       "    <tr>\n",
       "      <th>0</th>\n",
       "      <td>1</td>\n",
       "      <td>27</td>\n",
       "      <td>15</td>\n",
       "    </tr>\n",
       "    <tr>\n",
       "      <th>1</th>\n",
       "      <td>2</td>\n",
       "      <td>61</td>\n",
       "      <td>6</td>\n",
       "    </tr>\n",
       "    <tr>\n",
       "      <th>2</th>\n",
       "      <td>3</td>\n",
       "      <td>37</td>\n",
       "      <td>10</td>\n",
       "    </tr>\n",
       "    <tr>\n",
       "      <th>3</th>\n",
       "      <td>4</td>\n",
       "      <td>23</td>\n",
       "      <td>18</td>\n",
       "    </tr>\n",
       "    <tr>\n",
       "      <th>4</th>\n",
       "      <td>5</td>\n",
       "      <td>46</td>\n",
       "      <td>9</td>\n",
       "    </tr>\n",
       "    <tr>\n",
       "      <th>5</th>\n",
       "      <td>6</td>\n",
       "      <td>58</td>\n",
       "      <td>7</td>\n",
       "    </tr>\n",
       "    <tr>\n",
       "      <th>6</th>\n",
       "      <td>7</td>\n",
       "      <td>29</td>\n",
       "      <td>14</td>\n",
       "    </tr>\n",
       "    <tr>\n",
       "      <th>7</th>\n",
       "      <td>8</td>\n",
       "      <td>36</td>\n",
       "      <td>11</td>\n",
       "    </tr>\n",
       "    <tr>\n",
       "      <th>8</th>\n",
       "      <td>9</td>\n",
       "      <td>64</td>\n",
       "      <td>5</td>\n",
       "    </tr>\n",
       "    <tr>\n",
       "      <th>9</th>\n",
       "      <td>10</td>\n",
       "      <td>40</td>\n",
       "      <td>8</td>\n",
       "    </tr>\n",
       "  </tbody>\n",
       "</table>\n",
       "</div>"
      ],
      "text/plain": [
       "   EmployeeID  Age  Absences\n",
       "0           1   27        15\n",
       "1           2   61         6\n",
       "2           3   37        10\n",
       "3           4   23        18\n",
       "4           5   46         9\n",
       "5           6   58         7\n",
       "6           7   29        14\n",
       "7           8   36        11\n",
       "8           9   64         5\n",
       "9          10   40         8"
      ]
     },
     "execution_count": 17,
     "metadata": {},
     "output_type": "execute_result"
    }
   ],
   "source": [
    "df_absences = pd.read_csv(r'E:\\IronHack\\IronHack_Classes\\Week 4\\Labs_Week_4\\lab-linear-regression-correlation\\data\\absences.csv')\n",
    "df_absences = df_absences.drop(columns='Unnamed: 0')\n",
    "df_absences"
   ]
  },
  {
   "cell_type": "markdown",
   "metadata": {},
   "source": [
    "#### 1. Plot the scatter chart of `Age` and `Absences`. Comment the result. Do you see any relation between `Age` and `Absences`?"
   ]
  },
  {
   "cell_type": "code",
   "execution_count": 18,
   "metadata": {},
   "outputs": [
    {
     "data": {
      "text/plain": [
       "<matplotlib.axes._subplots.AxesSubplot at 0x272e2e2c5e0>"
      ]
     },
     "execution_count": 18,
     "metadata": {},
     "output_type": "execute_result"
    },
    {
     "data": {
      "image/png": "[encoded data removed]",
      "text/plain": [
       "<Figure size 432x288 with 1 Axes>"
      ]
     },
     "metadata": {
      "needs_background": "light"
     },
     "output_type": "display_data"
    }
   ],
   "source": [
    "df_absences.plot('Age', 'Absences', kind='scatter')"
   ]
  },
  {
   "cell_type": "code",
   "execution_count": 19,
   "metadata": {},
   "outputs": [],
   "source": [
    "#There is a strict negative correlation illustrating that, \n",
    "# indeed, the older you get, the less the employees are inclined to be absent"
   ]
  },
  {
   "cell_type": "markdown",
   "metadata": {},
   "source": [
    "#### 2.- Define a function to calculate the slope and intercept of the regression line for two variables. Your are not allowed to use any functions or methods that directly calculate those parameters."
   ]
  },
  {
   "cell_type": "code",
   "execution_count": 20,
   "metadata": {},
   "outputs": [
    {
     "name": "stdout",
     "output_type": "stream",
     "text": [
      "42.1\n",
      "10.3\n"
     ]
    }
   ],
   "source": [
    "#Calculating Means of X & Y\n",
    "\n",
    "x_mean_age = sum(df_absences['Age'])/len(df_absences['Age'])\n",
    "print(x_mean_age)\n",
    "\n",
    "y_mean_absence = sum(df_absences['Absences'])/len(df_absences['Absences'])\n",
    "print(y_mean_absence)"
   ]
  },
  {
   "cell_type": "code",
   "execution_count": 50,
   "metadata": {},
   "outputs": [],
   "source": [
    "def slope(x,y):\n",
    "    x_mean_age = sum(x)/len(x)\n",
    "    y_mean_absence = sum(y)/len(y)    \n",
    "    m=sum([(x[i]-x_mean_age)*(y[i]-y_mean_absence) for i in range(len(x))])/sum([(x[i]-x_mean_age)**2 for i in range(len(x))])\n",
    "    \n",
    "    #b is calculated by y -m*x\n",
    "    b=y_mean_absence-(m*x_mean_age)\n",
    "    \n",
    "    return m,b\n",
    "\n",
    "def slope_line(x,m, b):\n",
    "    y= m*x + b\n",
    "    return y"
   ]
  },
  {
   "cell_type": "code",
   "execution_count": 53,
   "metadata": {},
   "outputs": [
    {
     "data": {
      "text/plain": [
       "(-0.2681088337033404, 21.58738189891063)"
      ]
     },
     "execution_count": 53,
     "metadata": {},
     "output_type": "execute_result"
    }
   ],
   "source": [
    "m,b = slope(df_absences['Age'],df_absences['Absences'])\n",
    "m,b"
   ]
  },
  {
   "cell_type": "code",
   "execution_count": 42,
   "metadata": {},
   "outputs": [
    {
     "name": "stdout",
     "output_type": "stream",
     "text": [
      "-0.2681088337033404 21.58738189891063\n"
     ]
    },
    {
     "data": {
      "text/plain": [
       "(-0.2681088337033404, 21.58738189891063)"
      ]
     },
     "execution_count": 42,
     "metadata": {},
     "output_type": "execute_result"
    }
   ],
   "source": [
    "m_b = slope(df_absences['Age'],df_absences['Absences'])\n",
    "m_b"
   ]
  },
  {
   "cell_type": "markdown",
   "metadata": {},
   "source": [
    "#### 3.- Use the function you defined in step 2 to calculate the regression line for `Age` and `Absences`. Plot it and comment your results."
   ]
  },
  {
   "cell_type": "code",
   "execution_count": 54,
   "metadata": {},
   "outputs": [
    {
     "data": {
      "text/plain": [
       "5.232743043006867"
      ]
     },
     "execution_count": 54,
     "metadata": {},
     "output_type": "execute_result"
    }
   ],
   "source": [
    "slope_line(df_absences['Age'][1], m,b)"
   ]
  },
  {
   "cell_type": "code",
   "execution_count": 58,
   "metadata": {},
   "outputs": [],
   "source": [
    "df_absences[\"regression_y\"] = df_absences['Age'].apply(lambda x: slope_line(x, m,b))"
   ]
  },
  {
   "cell_type": "code",
   "execution_count": 59,
   "metadata": {},
   "outputs": [
    {
     "data": {
      "text/html": [
       "<div>\n",
       "<style scoped>\n",
       "    .dataframe tbody tr th:only-of-type {\n",
       "        vertical-align: middle;\n",
       "    }\n",
       "\n",
       "    .dataframe tbody tr th {\n",
       "        vertical-align: top;\n",
       "    }\n",
       "\n",
       "    .dataframe thead th {\n",
       "        text-align: right;\n",
       "    }\n",
       "</style>\n",
       "<table border=\"1\" class=\"dataframe\">\n",
       "  <thead>\n",
       "    <tr style=\"text-align: right;\">\n",
       "      <th></th>\n",
       "      <th>EmployeeID</th>\n",
       "      <th>Age</th>\n",
       "      <th>Absences</th>\n",
       "      <th>regression_y</th>\n",
       "    </tr>\n",
       "  </thead>\n",
       "  <tbody>\n",
       "    <tr>\n",
       "      <th>0</th>\n",
       "      <td>1</td>\n",
       "      <td>27</td>\n",
       "      <td>15</td>\n",
       "      <td>14.348443</td>\n",
       "    </tr>\n",
       "    <tr>\n",
       "      <th>1</th>\n",
       "      <td>2</td>\n",
       "      <td>61</td>\n",
       "      <td>6</td>\n",
       "      <td>5.232743</td>\n",
       "    </tr>\n",
       "    <tr>\n",
       "      <th>2</th>\n",
       "      <td>3</td>\n",
       "      <td>37</td>\n",
       "      <td>10</td>\n",
       "      <td>11.667355</td>\n",
       "    </tr>\n",
       "    <tr>\n",
       "      <th>3</th>\n",
       "      <td>4</td>\n",
       "      <td>23</td>\n",
       "      <td>18</td>\n",
       "      <td>15.420879</td>\n",
       "    </tr>\n",
       "    <tr>\n",
       "      <th>4</th>\n",
       "      <td>5</td>\n",
       "      <td>46</td>\n",
       "      <td>9</td>\n",
       "      <td>9.254376</td>\n",
       "    </tr>\n",
       "    <tr>\n",
       "      <th>5</th>\n",
       "      <td>6</td>\n",
       "      <td>58</td>\n",
       "      <td>7</td>\n",
       "      <td>6.037070</td>\n",
       "    </tr>\n",
       "    <tr>\n",
       "      <th>6</th>\n",
       "      <td>7</td>\n",
       "      <td>29</td>\n",
       "      <td>14</td>\n",
       "      <td>13.812226</td>\n",
       "    </tr>\n",
       "    <tr>\n",
       "      <th>7</th>\n",
       "      <td>8</td>\n",
       "      <td>36</td>\n",
       "      <td>11</td>\n",
       "      <td>11.935464</td>\n",
       "    </tr>\n",
       "    <tr>\n",
       "      <th>8</th>\n",
       "      <td>9</td>\n",
       "      <td>64</td>\n",
       "      <td>5</td>\n",
       "      <td>4.428417</td>\n",
       "    </tr>\n",
       "    <tr>\n",
       "      <th>9</th>\n",
       "      <td>10</td>\n",
       "      <td>40</td>\n",
       "      <td>8</td>\n",
       "      <td>10.863029</td>\n",
       "    </tr>\n",
       "  </tbody>\n",
       "</table>\n",
       "</div>"
      ],
      "text/plain": [
       "   EmployeeID  Age  Absences  regression_y\n",
       "0           1   27        15     14.348443\n",
       "1           2   61         6      5.232743\n",
       "2           3   37        10     11.667355\n",
       "3           4   23        18     15.420879\n",
       "4           5   46         9      9.254376\n",
       "5           6   58         7      6.037070\n",
       "6           7   29        14     13.812226\n",
       "7           8   36        11     11.935464\n",
       "8           9   64         5      4.428417\n",
       "9          10   40         8     10.863029"
      ]
     },
     "execution_count": 59,
     "metadata": {},
     "output_type": "execute_result"
    }
   ],
   "source": [
    "df_absences"
   ]
  },
  {
   "cell_type": "code",
   "execution_count": 61,
   "metadata": {},
   "outputs": [
    {
     "data": {
      "text/plain": [
       "<matplotlib.axes._subplots.AxesSubplot at 0x272e4eb7ac0>"
      ]
     },
     "execution_count": 61,
     "metadata": {},
     "output_type": "execute_result"
    },
    {
     "data": {
      "image/png": "[encoded data removed]",
      "text/plain": [
       "<Figure size 432x288 with 1 Axes>"
      ]
     },
     "metadata": {
      "needs_background": "light"
     },
     "output_type": "display_data"
    }
   ],
   "source": [
    "df_absences.plot(x='Age',y='regression_y')"
   ]
  },
  {
   "cell_type": "markdown",
   "metadata": {},
   "source": [
    "#### 4.- Define a function to calculate the covariance and the correlation of two variables."
   ]
  },
  {
   "cell_type": "code",
   "execution_count": 64,
   "metadata": {},
   "outputs": [],
   "source": [
    "def covar_calcul(x,y):\n",
    "    x_mean_g = sum(x)/len(x)\n",
    "    y_mean_g = sum(y)/len(y)  \n",
    "    covar_x_y=0\n",
    "    for i in range(len(x)):\n",
    "        covar_x_y += (1/len(x))*(x-x_mean_g)*(y-y_mean_g)\n",
    "    print('the covariance of X & Y is of', covar_x_y)\n",
    "    return covar_x_y"
   ]
  },
  {
   "cell_type": "code",
   "execution_count": 72,
   "metadata": {},
   "outputs": [
    {
     "name": "stdout",
     "output_type": "stream",
     "text": [
      "the covariance of X & Y is of 0    -70.97\n",
      "1    -81.27\n",
      "2      1.53\n",
      "3   -147.07\n",
      "4     -5.07\n",
      "5    -52.47\n",
      "6    -48.47\n",
      "7     -4.27\n",
      "8   -116.07\n",
      "9      4.83\n",
      "dtype: float64\n"
     ]
    }
   ],
   "source": [
    "covar_age_abs = covar_calcul(df_absences['Age'], df_absences['Absences'])"
   ]
  },
  {
   "cell_type": "markdown",
   "metadata": {},
   "source": [
    "#### 5.- Use the function you defined in step 4 to calculate the covariance and the correlation of `Age` and `Absences`. Compare them and comment."
   ]
  },
  {
   "cell_type": "code",
   "execution_count": 73,
   "metadata": {},
   "outputs": [],
   "source": [
    "def correlation(x,y, covar_x_y):\n",
    "    x_mean_g = sum(x)/len(x)\n",
    "    y_mean_g = sum(y)/len(y)  \n",
    "    stad_x = 0\n",
    "    stad_x += ((sum(x -x_mean_g)**2))/(len(x))**(1/2)\n",
    "    \n",
    "    y_mean_g = sum(y)/len(y)\n",
    "    stad_y = 0\n",
    "    stad_y += ((sum(x -y_mean_g)**2))/(len(y))**(1/2)\n",
    "    corr = covar_x_y/(stad_x * stad_y)\n",
    "    print('correlation between X & Y is of', corr)\n",
    "    return corr"
   ]
  },
  {
   "cell_type": "code",
   "execution_count": 74,
   "metadata": {},
   "outputs": [
    {
     "name": "stdout",
     "output_type": "stream",
     "text": [
      "correlation between X & Y is of 0   -3.475203e+25\n",
      "1   -3.979565e+25\n",
      "2    7.491983e+23\n",
      "3   -7.201608e+25\n",
      "4   -2.482638e+24\n",
      "5   -2.569310e+25\n",
      "6   -2.373441e+25\n",
      "7   -2.090900e+24\n",
      "8   -5.683624e+25\n",
      "9    2.365116e+24\n",
      "dtype: float64\n"
     ]
    },
    {
     "data": {
      "text/plain": [
       "0   -3.475203e+25\n",
       "1   -3.979565e+25\n",
       "2    7.491983e+23\n",
       "3   -7.201608e+25\n",
       "4   -2.482638e+24\n",
       "5   -2.569310e+25\n",
       "6   -2.373441e+25\n",
       "7   -2.090900e+24\n",
       "8   -5.683624e+25\n",
       "9    2.365116e+24\n",
       "dtype: float64"
      ]
     },
     "execution_count": 74,
     "metadata": {},
     "output_type": "execute_result"
    }
   ],
   "source": [
    "correlation(df_absences['Age'], df_absences['Absences'], covar_age_abs)"
   ]
  },
  {
   "cell_type": "code",
   "execution_count": null,
   "metadata": {},
   "outputs": [],
   "source": [
    "# your code here"
   ]
  },
  {
   "cell_type": "code",
   "execution_count": null,
   "metadata": {},
   "outputs": [],
   "source": [
    "# your comments here"
   ]
  },
  {
   "cell_type": "markdown",
   "metadata": {},
   "source": [
    "#### 6.- Summarize your results, interpret them and give some insights. Can you confirm that the age is an indicator of absenteeism?"
   ]
  },
  {
   "cell_type": "code",
   "execution_count": null,
   "metadata": {},
   "outputs": [],
   "source": [
    "# your comments here"
   ]
  },
  {
   "cell_type": "markdown",
   "metadata": {},
   "source": [
    "## Challenge 2\n",
    "\n",
    "Good Ironhackers stay in campus on Fridays for Ironbeers. You suspect that the more people you tell to stay, the most likely it is that they don't. You want to know if you are the reason why people don't stay so you decide to do an analysis. \n",
    "\n",
    "X is the number of people that you told to stay and Y is the number of people that actually stayed.\n",
    "\n",
    "| X | Y |\n",
    "|---|---|\n",
    "| 1 | 1 |\n",
    "| 3 | 2 |\n",
    "| 4 | 4 |\n",
    "| 6 | 4 |\n",
    "| 8 | 5 |\n",
    "| 9 | 7 |\n",
    "| 11 |8 |\n",
    "| 14 | 9 |\n",
    "\n",
    "Use the following command to create a dataframe with the data about Ironbeers attendance:"
   ]
  },
  {
   "cell_type": "code",
   "execution_count": 24,
   "metadata": {},
   "outputs": [],
   "source": [
    "ironbeers_df = pd.DataFrame({'X': [1,3,4,6,8,9,11,14], 'Y': [1,2,4,4,5,7,8,9]})"
   ]
  },
  {
   "cell_type": "markdown",
   "metadata": {},
   "source": [
    "#### 1.- Calculate the covariance and the correlation of `X` and `Y`. Comment on the results."
   ]
  },
  {
   "cell_type": "code",
   "execution_count": null,
   "metadata": {},
   "outputs": [],
   "source": [
    "# covariance formula = {Cov}(X,Y)=\\sum _{{i=1}}^{n}\\sum _{{j=1}}^{m}\\,x_{i}y_{j}\\operatorname {P}(X=x_{i}\\ {\\textrm  {et}}\\ Y=y_{j})-\\operatorname {E}[X]\\operatorname {E}[Y]\n",
    "\n",
    "# correlation formula (1/(n-1))(sum(x-mean(x)*(y-mean(y))))/(stdx & std y)"
   ]
  },
  {
   "cell_type": "code",
   "execution_count": 25,
   "metadata": {},
   "outputs": [],
   "source": [
    "#Calculating mean of X & Y\n",
    "x_mean = sum(ironbeers_df['X'])/len(ironbeers_df['X'])\n",
    "\n",
    "y_mean = sum(ironbeers_df['Y'])/len(ironbeers_df['Y'])\n"
   ]
  },
  {
   "cell_type": "code",
   "execution_count": 26,
   "metadata": {},
   "outputs": [
    {
     "name": "stdout",
     "output_type": "stream",
     "text": [
      "the covariance of X & Y is of 10.5\n"
     ]
    }
   ],
   "source": [
    "# covariance X & Y\n",
    "covariance_x_y = 0\n",
    "\n",
    "for i in range(len(ironbeers_df['X'])):\n",
    "    covariance_x_y += (1/(len(ironbeers_df['X'])))*((ironbeers_df['X'][i]-x_mean))*((ironbeers_df['Y'][i]-y_mean))\n",
    "print('the covariance of X & Y is of', covariance_x_y)"
   ]
  },
  {
   "cell_type": "code",
   "execution_count": 27,
   "metadata": {},
   "outputs": [
    {
     "name": "stdout",
     "output_type": "stream",
     "text": [
      "the standard deviation of X is of 4.06201920231798\n",
      "the standard deviation of Y is of 2.6457513110645907\n"
     ]
    }
   ],
   "source": [
    "#Standard deviation of X\n",
    "# x_mean\n",
    "std_x = 0\n",
    "std_x += ((sum([(i - x_mean)**2 for i in ironbeers_df['X']]))/(len(ironbeers_df['X'])))**(1/2)\n",
    "\n",
    "print('the standard deviation of X is of', std_x)    \n",
    "\n",
    "#Standard deviation of Y\n",
    "# y_mean\n",
    "std_y = 0\n",
    "# for i in ironbeers_df['Y']:\n",
    "std_y += ((sum([(i - y_mean)**2 for i in ironbeers_df['Y']]))/(len(ironbeers_df['Y'])))**(1/2)\n",
    "print('the standard deviation of Y is of', std_y)    "
   ]
  },
  {
   "cell_type": "code",
   "execution_count": 28,
   "metadata": {},
   "outputs": [
    {
     "name": "stdout",
     "output_type": "stream",
     "text": [
      "the correlation of X & Y is of 0.9770084209183942\n"
     ]
    }
   ],
   "source": [
    "#Correlation X/Y = Cov(X,Y)/stdX * stdY\n",
    "\n",
    "corr_x_y = covariance_x_y /(std_x * std_y)\n",
    "\n",
    "print('the correlation of X & Y is of', corr_x_y)"
   ]
  },
  {
   "cell_type": "markdown",
   "metadata": {},
   "source": [
    "#### 2.- Plot the scatter chart of `X` and `Y`. Comment on the results."
   ]
  },
  {
   "cell_type": "code",
   "execution_count": 29,
   "metadata": {},
   "outputs": [
    {
     "data": {
      "image/png": "[encoded data removed]",
      "text/plain": [
       "<Figure size 432x288 with 1 Axes>"
      ]
     },
     "metadata": {
      "needs_background": "light"
     },
     "output_type": "display_data"
    }
   ],
   "source": [
    "x_y_plot= ironbeers_df.plot('X', 'Y')"
   ]
  },
  {
   "cell_type": "markdown",
   "metadata": {},
   "source": [
    "##### There seems to be a strong correlation between X & Y, since the plot is approximatively a straight line. The correlation is indeed confirmed by the correlation(X,Y) of 0.9770, which is extremly high, near to total correlation of 1"
   ]
  },
  {
   "cell_type": "markdown",
   "metadata": {},
   "source": [
    "#### 3.- Calculate the regression line for `X` and `Y`. Commment on the results."
   ]
  },
  {
   "cell_type": "code",
   "execution_count": 75,
   "metadata": {},
   "outputs": [],
   "source": [
    "def reg_line(x,m,b):\n",
    "    y= m*x + b\n",
    "    return y"
   ]
  },
  {
   "cell_type": "code",
   "execution_count": 76,
   "metadata": {},
   "outputs": [],
   "source": [
    "m_ironbeer,b_ironbeer = slope(ironbeers_df['X'], ironbeers_df['Y'])"
   ]
  },
  {
   "cell_type": "code",
   "execution_count": 77,
   "metadata": {},
   "outputs": [
    {
     "data": {
      "text/plain": [
       "(0.6363636363636364, 0.5454545454545459)"
      ]
     },
     "execution_count": 77,
     "metadata": {},
     "output_type": "execute_result"
    }
   ],
   "source": [
    "m_ironbeer,b_ironbeer"
   ]
  },
  {
   "cell_type": "code",
   "execution_count": 79,
   "metadata": {},
   "outputs": [],
   "source": [
    "ironbeers_df['Y_regression_points'] = ironbeers_df['X'].apply(lambda x: reg_line(x, m_ironbeer,b_ironbeer))"
   ]
  },
  {
   "cell_type": "code",
   "execution_count": 80,
   "metadata": {},
   "outputs": [
    {
     "data": {
      "text/html": [
       "<div>\n",
       "<style scoped>\n",
       "    .dataframe tbody tr th:only-of-type {\n",
       "        vertical-align: middle;\n",
       "    }\n",
       "\n",
       "    .dataframe tbody tr th {\n",
       "        vertical-align: top;\n",
       "    }\n",
       "\n",
       "    .dataframe thead th {\n",
       "        text-align: right;\n",
       "    }\n",
       "</style>\n",
       "<table border=\"1\" class=\"dataframe\">\n",
       "  <thead>\n",
       "    <tr style=\"text-align: right;\">\n",
       "      <th></th>\n",
       "      <th>X</th>\n",
       "      <th>Y</th>\n",
       "      <th>Y_regression_points</th>\n",
       "    </tr>\n",
       "  </thead>\n",
       "  <tbody>\n",
       "    <tr>\n",
       "      <th>0</th>\n",
       "      <td>1</td>\n",
       "      <td>1</td>\n",
       "      <td>1.181818</td>\n",
       "    </tr>\n",
       "    <tr>\n",
       "      <th>1</th>\n",
       "      <td>3</td>\n",
       "      <td>2</td>\n",
       "      <td>2.454545</td>\n",
       "    </tr>\n",
       "    <tr>\n",
       "      <th>2</th>\n",
       "      <td>4</td>\n",
       "      <td>4</td>\n",
       "      <td>3.090909</td>\n",
       "    </tr>\n",
       "    <tr>\n",
       "      <th>3</th>\n",
       "      <td>6</td>\n",
       "      <td>4</td>\n",
       "      <td>4.363636</td>\n",
       "    </tr>\n",
       "    <tr>\n",
       "      <th>4</th>\n",
       "      <td>8</td>\n",
       "      <td>5</td>\n",
       "      <td>5.636364</td>\n",
       "    </tr>\n",
       "    <tr>\n",
       "      <th>5</th>\n",
       "      <td>9</td>\n",
       "      <td>7</td>\n",
       "      <td>6.272727</td>\n",
       "    </tr>\n",
       "    <tr>\n",
       "      <th>6</th>\n",
       "      <td>11</td>\n",
       "      <td>8</td>\n",
       "      <td>7.545455</td>\n",
       "    </tr>\n",
       "    <tr>\n",
       "      <th>7</th>\n",
       "      <td>14</td>\n",
       "      <td>9</td>\n",
       "      <td>9.454545</td>\n",
       "    </tr>\n",
       "  </tbody>\n",
       "</table>\n",
       "</div>"
      ],
      "text/plain": [
       "    X  Y  Y_regression_points\n",
       "0   1  1             1.181818\n",
       "1   3  2             2.454545\n",
       "2   4  4             3.090909\n",
       "3   6  4             4.363636\n",
       "4   8  5             5.636364\n",
       "5   9  7             6.272727\n",
       "6  11  8             7.545455\n",
       "7  14  9             9.454545"
      ]
     },
     "execution_count": 80,
     "metadata": {},
     "output_type": "execute_result"
    }
   ],
   "source": [
    "ironbeers_df"
   ]
  },
  {
   "cell_type": "code",
   "execution_count": 81,
   "metadata": {},
   "outputs": [
    {
     "data": {
      "text/plain": [
       "<matplotlib.axes._subplots.AxesSubplot at 0x272e4fedca0>"
      ]
     },
     "execution_count": 81,
     "metadata": {},
     "output_type": "execute_result"
    },
    {
     "data": {
      "image/png": "[encoded data removed]",
      "text/plain": [
       "<Figure size 432x288 with 1 Axes>"
      ]
     },
     "metadata": {
      "needs_background": "light"
     },
     "output_type": "display_data"
    }
   ],
   "source": [
    "ironbeers_df.plot(x='X', y = 'Y_regression_points')"
   ]
  },
  {
   "cell_type": "code",
   "execution_count": null,
   "metadata": {},
   "outputs": [],
   "source": [
    "# Clear correlatioj from 0 onwards between X & Y"
   ]
  },
  {
   "cell_type": "markdown",
   "metadata": {},
   "source": [
    "#### 4.- What is your conclusion? Are you the reason why people is not staying on Fridays?"
   ]
  },
  {
   "cell_type": "code",
   "execution_count": null,
   "metadata": {},
   "outputs": [],
   "source": [
    "# Given the clear regression line, where you have an almost straight correlation between X & Y\n",
    "# it does seem I am the ONE person who makes Ironhackers flee the IronBeer when I am there\n",
    "# I am a nice person though, I don't know why, how sad !"
   ]
  },
  {
   "cell_type": "markdown",
   "metadata": {},
   "source": [
    "## Bonus Challenge: Error Analysis\n",
    "\n",
    "You are going to do an analysis to check whether two random variables fit into a linear regression or not.\n",
    "\n",
    "In this challenge, you are asked to do an error analysis using the data in **challenge 2**. An \"error\" is the difference between the expected value of an observation (the regression line value) and the actual value.\n",
    "\n",
    "#### 1.- First create a new column `expected_Y` in `ironbeers_df` to store the expected `Y` value for each `X`.\n",
    "**Hint**: You get the expected `Y` by evaluating the regression line for each `X`."
   ]
  },
  {
   "cell_type": "code",
   "execution_count": null,
   "metadata": {},
   "outputs": [],
   "source": [
    "import matplotlib.pyplot as plt  \n",
    "import seaborn as seabornInstance \n",
    "from sklearn.model_selection import train_test_split \n",
    "from sklearn.linear_model import LinearRegression\n",
    "from sklearn import metrics\n",
    "%matplotlib inline"
   ]
  },
  {
   "cell_type": "code",
   "execution_count": null,
   "metadata": {},
   "outputs": [],
   "source": [
    "regressor = LinearRegression()\n"
   ]
  },
  {
   "cell_type": "code",
   "execution_count": null,
   "metadata": {},
   "outputs": [],
   "source": [
    "ironbeers_df['expected_Y'] = LinearRegression(ironbeers_df['X'], ironbeers_df['Y'])"
   ]
  },
  {
   "cell_type": "code",
   "execution_count": null,
   "metadata": {},
   "outputs": [],
   "source": [
    "ironbeers_df"
   ]
  },
  {
   "cell_type": "markdown",
   "metadata": {},
   "source": [
    "#### 2.- Create a new column `error` in `ironbeers_df` to store the error between the actual and expected values of `Y`. Plot the scatter chart of `X` and `error`."
   ]
  },
  {
   "cell_type": "code",
   "execution_count": null,
   "metadata": {},
   "outputs": [],
   "source": [
    "ironbeers_df['error'] = regressor.fit(, ironbeers_df['X'])"
   ]
  },
  {
   "cell_type": "markdown",
   "metadata": {},
   "source": [
    "#### 3.- The closer the points to zero, the best the actual values fit the linear regression. Comment the plot above. Do you see any particular points with a high error?"
   ]
  },
  {
   "cell_type": "code",
   "execution_count": null,
   "metadata": {},
   "outputs": [],
   "source": [
    "# your comments here"
   ]
  },
  {
   "cell_type": "markdown",
   "metadata": {},
   "source": [
    "#### 4.- Remove the points with a high error and recalculate the regression line."
   ]
  },
  {
   "cell_type": "code",
   "execution_count": null,
   "metadata": {},
   "outputs": [],
   "source": [
    "# your code here"
   ]
  },
  {
   "cell_type": "markdown",
   "metadata": {},
   "source": [
    "#### 5.- Calculate the correlation. What is happening? Comment the result."
   ]
  },
  {
   "cell_type": "code",
   "execution_count": null,
   "metadata": {},
   "outputs": [],
   "source": [
    "# your code here"
   ]
  },
  {
   "cell_type": "code",
   "execution_count": null,
   "metadata": {},
   "outputs": [],
   "source": [
    "# your comments here"
   ]
  }
 ],
 "metadata": {
  "kernelspec": {
   "display_name": "Python 3",
   "language": "python",
   "name": "python3"
  },
  "language_info": {
   "codemirror_mode": {
    "name": "ipython",
    "version": 3
   },
   "file_extension": ".py",
   "mimetype": "text/x-python",
   "name": "python",
   "nbconvert_exporter": "python",
   "pygments_lexer": "ipython3",
   "version": "3.8.0"
  }
 },
 "nbformat": 4,
 "nbformat_minor": 2
}
